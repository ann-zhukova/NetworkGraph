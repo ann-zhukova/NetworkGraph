{
 "cells": [
  {
   "cell_type": "code",
   "execution_count": 75,
   "metadata": {},
   "outputs": [],
   "source": [
    "from pyvis.network import Network\n",
    "import pandas as pd\n",
    "import matplotlib.pyplot as plt\n",
    "import networkx as nx\n"
   ]
  },
  {
   "cell_type": "code",
   "execution_count": 76,
   "metadata": {},
   "outputs": [
    {
     "name": "stdout",
     "output_type": "stream",
     "text": [
      "Warning: When  cdn_resources is 'local' jupyter notebook has issues displaying graphics on chrome/safari. Use cdn_resources='in_line' or cdn_resources='remote' if you have issues viewing graphics in a notebook.\n"
     ]
    }
   ],
   "source": [
    "net = Network(height=\"800px\", width=\"800px\", notebook=True)\n",
    "# set the physics layout of the network\n",
    "#got_net.barnes_hut()"
   ]
  },
  {
   "cell_type": "code",
   "execution_count": 77,
   "metadata": {},
   "outputs": [],
   "source": [
    "net_data = pd.read_csv(\"table1.csv\", sep=';')\n",
    "sources = net_data['Source']\n",
    "targets = net_data['Target']\n",
    "weights = net_data['Weight']"
   ]
  },
  {
   "cell_type": "code",
   "execution_count": 78,
   "metadata": {},
   "outputs": [],
   "source": [
    "edge_data = zip(sources, targets, weights)\n",
    "\n",
    "for e in edge_data:\n",
    "                src = e[0]\n",
    "                dst = e[1]\n",
    "                w = e[2]\n",
    "                net.add_node(src, src, title=src, shape = 'image', image = \"empty1.png\")\n",
    "                net.add_node(dst, dst, title=dst, shape = 'image', image = \"empty1.png\")\n",
    "                net.add_edge(src, dst, value=w, physics = \"false\")\n",
    "\n",
    "neighbor_map = net.get_adj_list()"
   ]
  },
  {
   "cell_type": "code",
   "execution_count": 79,
   "metadata": {},
   "outputs": [],
   "source": [
    "G = nx.read_edgelist('table2.txt', create_using=nx.Graph())"
   ]
  },
  {
   "cell_type": "code",
   "execution_count": 80,
   "metadata": {},
   "outputs": [
    {
     "name": "stdout",
     "output_type": "stream",
     "text": [
      "Количество вершин: 50\n",
      "Количество рёбер: 171\n",
      "Среднее количество соседей у узлов в графе: 3.42\n"
     ]
    }
   ],
   "source": [
    "print('Количество вершин: {}'.format(G.number_of_nodes()))\n",
    "print('Количество рёбер: {}'.format(G. number_of_edges()))\n",
    "print('Среднее количество соседей у узлов в графе: {}'.format(round(G.number_of_edges() / float(G.number_of_nodes()), 4)))"
   ]
  },
  {
   "cell_type": "code",
   "execution_count": 81,
   "metadata": {},
   "outputs": [
    {
     "data": {
      "image/png": "[encoded data removed]",
      "text/plain": [
       "<Figure size 500x500 with 1 Axes>"
      ]
     },
     "metadata": {},
     "output_type": "display_data"
    }
   ],
   "source": [
    "degree = dict(G.degree())\n",
    "degree_values = sorted(set(degree.values()))\n",
    "hist = [list(degree.values()).count(x) for x in degree_values]\n",
    "plt.figure(figsize=(5, 5))\n",
    "plt.plot(degree_values, hist, 'ro-')\n",
    "plt.legend(['Degree'])\n",
    "plt.xlabel('Степень')\n",
    "plt.ylabel('Число вершин')\n",
    "plt.show()"
   ]
  },
  {
   "cell_type": "code",
   "execution_count": 82,
   "metadata": {},
   "outputs": [
    {
     "name": "stdout",
     "output_type": "stream",
     "text": [
      "Диаметр:  4\n",
      "Граф является ненаправленным и связным.\n",
      "Среднее расстояние:  2.1918367346938776\n",
      "Кластеризация:  0.11989342806394317\n",
      "Кластерный коэффициент:  0.12185569985569986\n",
      "Количество центральных узлов:  44\n",
      "Количество узлов на периферии:  6\n"
     ]
    }
   ],
   "source": [
    "print ('Диаметр: ', nx.diameter(G))\n",
    "if nx.is_connected(G):\n",
    "     print('Граф является ненаправленным и связным.')\n",
    "print ('Среднее расстояние: ', nx.average_shortest_path_length(G))\n",
    "print ('Кластеризация: ', nx.transitivity(G))\n",
    "print ('Кластерный коэффициент: ', nx.average_clustering(G))\n",
    "print ('Количество центральных узлов: ', len(nx.center(G)))\n",
    "print ('Количество узлов на периферии: ', len(nx.periphery(G)))"
   ]
  },
  {
   "cell_type": "code",
   "execution_count": 83,
   "metadata": {},
   "outputs": [],
   "source": [
    "interest_data = pd.read_csv(\"table3.csv\", sep=';')\n",
    "sources = interest_data['Source']\n",
    "interests = interest_data['Interest']\n",
    "data = zip(sources, interests)\n",
    "data = list(data)"
   ]
  },
  {
   "cell_type": "code",
   "execution_count": 84,
   "metadata": {},
   "outputs": [],
   "source": [
    "for node in net.nodes:\n",
    "    i = 0\n",
    "    node[\"title\"] = \"\"\n",
    "    for e in data:\n",
    "        src = e[0]\n",
    "        intr = e[1]\n",
    "        if src == node['id']:\n",
    "            node[\"title\"] += intr+\"\\n\"\n",
    "            i+=1\n",
    "    node[\"value\"] = i"
   ]
  },
  {
   "cell_type": "code",
   "execution_count": 85,
   "metadata": {},
   "outputs": [],
   "source": [
    "interest_data = pd.read_csv(\"table4.csv\", sep=';')\n",
    "interests = list(interest_data['Interest'])"
   ]
  },
  {
   "cell_type": "code",
   "execution_count": 86,
   "metadata": {},
   "outputs": [
    {
     "name": "stdout",
     "output_type": "stream",
     "text": [
      "Марьяна\n",
      "['Надежда', 'Александр', 'Михаил', 'Максим', 'Никита', 'Кристина', 'Меланья', 'Виктория', 'Ольга', 'Наталья']\n",
      "[('музыка', 0), ('рисование', 0), ('танцы', 0), ('английский', 0), ('математика', 0), ('лыжи', 0), ('туризм', 0), ('физика', 0), ('теннис', 0), ('информатика', 0), ('бег', 0), ('коньки', 0), ('шахматы', 0), ('серфинг', 0), ('спортзал', 0), ('вокал', 0), ('машины', 0), ('скейтборд', 0), ('уборка', 0), ('собаки', 0), ('массаж', 0), ('маникюр', 0), ('плавание', 0), ('бокс', 0), ('барабаны', 0), ('литература', 0), ('спортзал ', 0), ('путешествия', 0), ('история', 0), ('велосипед', 0), ('батут', 0), ('стихи', 0), ('карты', 0)]\n",
      "[]\n",
      "[]\n",
      "3\n"
     ]
    }
   ],
   "source": [
    "firstUsersInterest = list()\n",
    "for i in range(33):\n",
    "    firstUsersInterest.append(0)\n",
    "print(net.nodes[0]['id'])\n",
    "print((list(net.neighbors(net.nodes[0]['id']))))\n",
    "for node in list(net.neighbors(net.nodes[0]['id'])):\n",
    "   \n",
    "    interestList = net.get_node(node)['title'].split(sep = '/n')\n",
    "    for i in range(33):\n",
    "        if interests[i] in interestList:\n",
    "            firstUsersInterest[i] +=1\n",
    "print(list(zip(interests, firstUsersInterest)))\n",
    "print(list(nx.articulation_points(G)))\n",
    "print(list(nx.bridges(G)))\n",
    "print(nx.node_connectivity(G))\n"
   ]
  },
  {
   "cell_type": "code",
   "execution_count": 87,
   "metadata": {},
   "outputs": [
    {
     "name": "stdout",
     "output_type": "stream",
     "text": [
      "Network.html\n"
     ]
    },
    {
     "data": {
      "text/html": [
       "\n",
       "        <iframe\n",
       "            width=\"800px\"\n",
       "            height=\"800px\"\n",
       "            src=\"Network.html\"\n",
       "            frameborder=\"0\"\n",
       "            allowfullscreen\n",
       "            \n",
       "        ></iframe>\n",
       "        "
      ],
      "text/plain": [
       "<IPython.lib.display.IFrame at 0x18756219fd0>"
      ]
     },
     "execution_count": 87,
     "metadata": {},
     "output_type": "execute_result"
    }
   ],
   "source": [
    "net.show('Network.html')   "
   ]
  }
 ],
 "metadata": {
  "kernelspec": {
   "display_name": "Python 3",
   "language": "python",
   "name": "python3"
  },
  "language_info": {
   "codemirror_mode": {
    "name": "ipython",
    "version": 3
   },
   "file_extension": ".py",
   "mimetype": "text/x-python",
   "name": "python",
   "nbconvert_exporter": "python",
   "pygments_lexer": "ipython3",
   "version": "3.12.0"
  }
 },
 "nbformat": 4,
 "nbformat_minor": 2
}
